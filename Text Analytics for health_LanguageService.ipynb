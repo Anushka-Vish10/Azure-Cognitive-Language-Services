{
 "cells": [
  {
   "cell_type": "markdown",
   "id": "edb5d3fc",
   "metadata": {},
   "source": [
    "Text Analytics for health is a capability provided “AS IS” and “WITH ALL FAULTS.” Text Analytics for health is not intended or made available for use as a medical device, clinical support, diagnostic tool, or other technology intended to be used in the diagnosis, cure, mitigation, treatment, or prevention of disease or other conditions, and no license or right is granted by Microsoft to use this capability for such purposes. This capability is not designed or intended to be implemented or deployed as a substitute for professional medical advice or healthcare opinion, diagnosis, treatment, or the clinical judgment of a healthcare professional, and should not be used as such. The customer is solely responsible for any use of Text Analytics for health. The customer must separately license any and all source vocabularies it intends to use under the terms set for that UMLS Metathesaurus License Agreement Appendix or any future equivalent link. The customer is responsible for ensuring compliance with those license terms, including any geographic or other applicable restrictions."
   ]
  },
  {
   "cell_type": "code",
   "execution_count": null,
   "id": "bebc771d",
   "metadata": {},
   "outputs": [],
   "source": [
    "# Installing required libraries\n",
    "!pip install azure-ai-textanalytics==5.1.0"
   ]
  },
  {
   "cell_type": "code",
   "execution_count": 3,
   "id": "760171da",
   "metadata": {},
   "outputs": [],
   "source": [
    "# Importing required libraries\n",
    "from azure.ai.textanalytics import TextAnalyticsClient\n",
    "from azure.core.credentials import AzureKeyCredential\n"
   ]
  },
  {
   "cell_type": "code",
   "execution_count": 4,
   "id": "655c1677",
   "metadata": {},
   "outputs": [
    {
     "name": "stdout",
     "output_type": "stream",
     "text": [
      "Entity: 50 mg\n",
      "...Normalized Text: None\n",
      "...Category: Dosage\n",
      "...Subcategory: None\n",
      "...Offset: 31\n",
      "...Confidence score: 1.0\n",
      "Entity: ibuprofen\n",
      "...Normalized Text: ibuprofen\n",
      "...Category: MedicationName\n",
      "...Subcategory: None\n",
      "...Offset: 40\n",
      "...Confidence score: 1.0\n",
      "Relation of type: DosageOfMedication has the following roles\n",
      "...Role 'Dosage' with entity '50 mg'\n",
      "...Role 'Medication' with entity 'ibuprofen'\n",
      "------------------------------------------\n"
     ]
    }
   ],
   "source": [
    "key = \"824f569d248b47fca4bec414d14f7e34\"\n",
    "endpoint = \"https://language-service.cognitiveservices.azure.com/\"\n",
    "\n",
    "\n",
    "# Authenticate the client using your key and endpoint \n",
    "def authenticate_client():\n",
    "    ta_credential = AzureKeyCredential(key)\n",
    "    text_analytics_client = TextAnalyticsClient(\n",
    "            endpoint=endpoint, \n",
    "            credential=ta_credential)\n",
    "    return text_analytics_client\n",
    "\n",
    "client = authenticate_client()\n",
    "\n",
    "# Example function for extracting information from healthcare-related text \n",
    "def health_example(client):\n",
    "    documents = [\n",
    "        \"\"\"\n",
    "        Patient needs to take 50 mg of ibuprofen.\n",
    "        \"\"\"\n",
    "    ]\n",
    "\n",
    "    poller = client.begin_analyze_healthcare_entities(documents)\n",
    "    result = poller.result()\n",
    "\n",
    "    docs = [doc for doc in result if not doc.is_error]\n",
    "\n",
    "    for idx, doc in enumerate(docs):\n",
    "        for entity in doc.entities:\n",
    "            print(\"Entity: {}\".format(entity.text))\n",
    "            print(\"...Normalized Text: {}\".format(entity.normalized_text))\n",
    "            print(\"...Category: {}\".format(entity.category))\n",
    "            print(\"...Subcategory: {}\".format(entity.subcategory))\n",
    "            print(\"...Offset: {}\".format(entity.offset))\n",
    "            print(\"...Confidence score: {}\".format(entity.confidence_score))\n",
    "        for relation in doc.entity_relations:\n",
    "            print(\"Relation of type: {} has the following roles\".format(relation.relation_type))\n",
    "            for role in relation.roles:\n",
    "                print(\"...Role '{}' with entity '{}'\".format(role.name, role.entity.text))\n",
    "        print(\"------------------------------------------\")\n",
    "health_example(client)"
   ]
  },
  {
   "cell_type": "code",
   "execution_count": null,
   "id": "76ba1719",
   "metadata": {},
   "outputs": [],
   "source": []
  }
 ],
 "metadata": {
  "kernelspec": {
   "display_name": "Python 3",
   "language": "python",
   "name": "python3"
  },
  "language_info": {
   "codemirror_mode": {
    "name": "ipython",
    "version": 3
   },
   "file_extension": ".py",
   "mimetype": "text/x-python",
   "name": "python",
   "nbconvert_exporter": "python",
   "pygments_lexer": "ipython3",
   "version": "3.8.8"
  }
 },
 "nbformat": 4,
 "nbformat_minor": 5
}
