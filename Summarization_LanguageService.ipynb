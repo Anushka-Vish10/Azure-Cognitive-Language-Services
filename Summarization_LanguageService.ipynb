{
 "cells": [
  {
   "cell_type": "markdown",
   "id": "fcd00a6d",
   "metadata": {},
   "source": [
    "Summarization is a pre-configured feature that uses extractive text summarization to produce a summary of documents and conversation transcriptions. It extracts sentences that collectively represent the most important or relevant information within the original content."
   ]
  },
  {
   "cell_type": "markdown",
   "id": "7a6f34f5",
   "metadata": {},
   "source": [
    "# Note\n",
    "\n",
    "To use conversation summarization, you must submit an online request and have it approved.\n",
    "\n",
    "Conversation summarization is only available through Language resources in the following regions:\n",
    "    \n",
    "> North Europe\n",
    "\n",
    "> East US\n",
    "\n",
    "> UK South\n",
    "\n",
    "Conversation summarization is only available using:\n",
    "\n",
    "> REST API\n",
    "\n",
    "> Python\n",
    "\n",
    "> C#"
   ]
  },
  {
   "cell_type": "markdown",
   "id": "28af0682",
   "metadata": {},
   "source": [
    "# Document Summarization\n",
    "\n",
    "The document summarization feature described in this documentation enables you to use extractive text summarization to produce a summary of a document. It extracts sentences that collectively represent the most important or relevant information within the original content. This feature is designed to shorten content that could be considered too long to read. For example, it can condense articles, papers, or documents to key sentences."
   ]
  },
  {
   "cell_type": "markdown",
   "id": "fbc17815",
   "metadata": {},
   "source": [
    "#### Key features\n",
    "\n",
    "Document summarization supports the following features:\n",
    "\n",
    "Extracted sentences: These sentences collectively convey the main idea of the document. They’re original sentences extracted from the input document’s content.\n",
    "\n",
    "Rank score: The rank score indicates how relevant a sentence is to a document's main topic. Document summarization ranks extracted sentences, and you can determine whether they're returned in the order they appear, or according to their rank.\n",
    "\n",
    "Maximum sentences: Determine the maximum number of sentences to be returned. For example, if you request a three-sentence summary Document summarization will return the three highest scored sentences.\n",
    "\n",
    "Positional information: The start position and length of extracted sentences."
   ]
  },
  {
   "cell_type": "code",
   "execution_count": 1,
   "id": "5dfd40fe",
   "metadata": {},
   "outputs": [
    {
     "name": "stdout",
     "output_type": "stream",
     "text": [
      "Collecting azure-ai-textanalytics==5.2.0b4\n",
      "  Downloading azure_ai_textanalytics-5.2.0b4-py3-none-any.whl (215 kB)\n",
      "Requirement already satisfied: msrest>=0.6.21 in c:\\users\\chotu\\anaconda3\\lib\\site-packages (from azure-ai-textanalytics==5.2.0b4) (0.6.21)\n",
      "Requirement already satisfied: azure-common~=1.1 in c:\\users\\chotu\\anaconda3\\lib\\site-packages (from azure-ai-textanalytics==5.2.0b4) (1.1.27)\n",
      "Requirement already satisfied: azure-core<2.0.0,>=1.19.1 in c:\\users\\chotu\\anaconda3\\lib\\site-packages (from azure-ai-textanalytics==5.2.0b4) (1.25.1)\n",
      "Requirement already satisfied: six>=1.11.0 in c:\\users\\chotu\\anaconda3\\lib\\site-packages (from azure-core<2.0.0,>=1.19.1->azure-ai-textanalytics==5.2.0b4) (1.15.0)\n",
      "Requirement already satisfied: requests>=2.18.4 in c:\\users\\chotu\\anaconda3\\lib\\site-packages (from azure-core<2.0.0,>=1.19.1->azure-ai-textanalytics==5.2.0b4) (2.25.1)\n",
      "Requirement already satisfied: typing-extensions>=4.0.1 in c:\\users\\chotu\\anaconda3\\lib\\site-packages (from azure-core<2.0.0,>=1.19.1->azure-ai-textanalytics==5.2.0b4) (4.3.0)\n",
      "Requirement already satisfied: isodate>=0.6.0 in c:\\users\\chotu\\anaconda3\\lib\\site-packages (from msrest>=0.6.21->azure-ai-textanalytics==5.2.0b4) (0.6.0)\n",
      "Requirement already satisfied: certifi>=2017.4.17 in c:\\users\\chotu\\anaconda3\\lib\\site-packages (from msrest>=0.6.21->azure-ai-textanalytics==5.2.0b4) (2020.12.5)\n",
      "Requirement already satisfied: requests-oauthlib>=0.5.0 in c:\\users\\chotu\\anaconda3\\lib\\site-packages (from msrest>=0.6.21->azure-ai-textanalytics==5.2.0b4) (1.3.0)\n",
      "Requirement already satisfied: urllib3<1.27,>=1.21.1 in c:\\users\\chotu\\anaconda3\\lib\\site-packages (from requests>=2.18.4->azure-core<2.0.0,>=1.19.1->azure-ai-textanalytics==5.2.0b4) (1.26.4)\n",
      "Requirement already satisfied: chardet<5,>=3.0.2 in c:\\users\\chotu\\anaconda3\\lib\\site-packages (from requests>=2.18.4->azure-core<2.0.0,>=1.19.1->azure-ai-textanalytics==5.2.0b4) (4.0.0)\n",
      "Requirement already satisfied: idna<3,>=2.5 in c:\\users\\chotu\\anaconda3\\lib\\site-packages (from requests>=2.18.4->azure-core<2.0.0,>=1.19.1->azure-ai-textanalytics==5.2.0b4) (2.10)\n",
      "Requirement already satisfied: oauthlib>=3.0.0 in c:\\users\\chotu\\anaconda3\\lib\\site-packages (from requests-oauthlib>=0.5.0->msrest>=0.6.21->azure-ai-textanalytics==5.2.0b4) (3.1.1)\n",
      "Installing collected packages: azure-ai-textanalytics\n",
      "  Attempting uninstall: azure-ai-textanalytics\n",
      "    Found existing installation: azure-ai-textanalytics 5.1.0\n",
      "    Uninstalling azure-ai-textanalytics-5.1.0:\n",
      "      Successfully uninstalled azure-ai-textanalytics-5.1.0\n",
      "Successfully installed azure-ai-textanalytics-5.2.0b4\n"
     ]
    }
   ],
   "source": [
    "# Installing required libraries\n",
    "!pip install azure-ai-textanalytics==5.2.0b4"
   ]
  },
  {
   "cell_type": "code",
   "execution_count": 2,
   "id": "cecf1124",
   "metadata": {},
   "outputs": [],
   "source": [
    "# Importing required libraries\n",
    "\n",
    "from azure.ai.textanalytics import TextAnalyticsClient\n",
    "from azure.core.credentials import AzureKeyCredential"
   ]
  },
  {
   "cell_type": "code",
   "execution_count": 3,
   "id": "63734e4d",
   "metadata": {},
   "outputs": [
    {
     "name": "stdout",
     "output_type": "stream",
     "text": [
      "Summary extracted: \n",
      "The extractive summarization feature uses natural language processing techniques to locate key sentences in an unstructured text document. This feature is provided as an API for developers. In the public preview, extractive summarization supports several languages. It is based on pretrained multilingual transformer models, part of our quest for holistic representations.\n"
     ]
    }
   ],
   "source": [
    "key = \"Paste your key here\"\n",
    "endpoint = \"Paste your end point here\"\n",
    "\n",
    "\n",
    "\n",
    "# Authenticate the client using your key and endpoint \n",
    "def authenticate_client():\n",
    "    ta_credential = AzureKeyCredential(key)\n",
    "    text_analytics_client = TextAnalyticsClient(\n",
    "            endpoint=endpoint, \n",
    "            credential=ta_credential)\n",
    "    return text_analytics_client\n",
    "\n",
    "client = authenticate_client()\n",
    "\n",
    "# Example method for summarizing text\n",
    "def sample_extractive_summarization(client):\n",
    "    from azure.core.credentials import AzureKeyCredential\n",
    "    from azure.ai.textanalytics import (\n",
    "        TextAnalyticsClient,\n",
    "        ExtractSummaryAction\n",
    "    ) \n",
    "\n",
    "    document = [\n",
    "        \"The extractive summarization feature uses natural language processing techniques to locate key sentences in an unstructured text document. \"\n",
    "        \"These sentences collectively convey the main idea of the document. This feature is provided as an API for developers. \" \n",
    "        \"They can use it to build intelligent solutions based on the relevant information extracted to support various use cases. \"\n",
    "        \"In the public preview, extractive summarization supports several languages. It is based on pretrained multilingual transformer models, part of our quest for holistic representations. \"\n",
    "        \"It draws its strength from transfer learning across monolingual and harness the shared nature of languages to produce models of improved quality and efficiency. \"\n",
    "    ]\n",
    "\n",
    "    poller = client.begin_analyze_actions(\n",
    "        document,\n",
    "        actions=[\n",
    "            ExtractSummaryAction(max_sentence_count=4)\n",
    "        ],\n",
    "    )\n",
    "\n",
    "    document_results = poller.result()\n",
    "    for result in document_results:\n",
    "        extract_summary_result = result[0]  # first document, first result\n",
    "        if extract_summary_result.is_error:\n",
    "            print(\"...Is an error with code '{}' and message '{}'\".format(\n",
    "                extract_summary_result.code, extract_summary_result.message\n",
    "            ))\n",
    "        else:\n",
    "            print(\"Summary extracted: \\n{}\".format(\n",
    "                \" \".join([sentence.text for sentence in extract_summary_result.sentences]))\n",
    "            )\n",
    "\n",
    "sample_extractive_summarization(client)"
   ]
  },
  {
   "cell_type": "markdown",
   "id": "f401c728",
   "metadata": {},
   "source": [
    "# Conversation summarization\n",
    "\n",
    "Conversation summarization is a broad topic, consisting of several approaches to represent relevant information in text. The conversation summarization feature described in this documentation enables you to use abstractive text summarization to produce a summary of issues and resolutions in transcripts of web chats and service call transcripts between customer-service agents, and your customers."
   ]
  },
  {
   "cell_type": "markdown",
   "id": "373ded01",
   "metadata": {},
   "source": [
    "#### When to use conversation summarization\n",
    "\n",
    "1. When there are aspects of an “issue” and “resolution”, such as\n",
    "\n",
    ">> The reason for a service chat/call (the issue).\n",
    "\n",
    ">> That resolution for the issue.\n",
    "\n",
    "2. You only want a summary that focuses on related information about issues and resolutions.\n",
    "\n",
    "3. When there are two participants in the conversation, and you want to summarize what each had said."
   ]
  },
  {
   "cell_type": "code",
   "execution_count": 2,
   "id": "95726596",
   "metadata": {},
   "outputs": [
    {
     "name": "stdout",
     "output_type": "stream",
     "text": [
      "Collecting azure-ai-language-conversations==1.1.0b2\n",
      "  Downloading azure_ai_language_conversations-1.1.0b2-py3-none-any.whl (134 kB)\n",
      "Requirement already satisfied: azure-core<2.0.0,>=1.24.0 in c:\\users\\chotu\\anaconda3\\lib\\site-packages (from azure-ai-language-conversations==1.1.0b2) (1.25.1)\n",
      "Collecting isodate<1.0.0,>=0.6.1\n",
      "  Downloading isodate-0.6.1-py2.py3-none-any.whl (41 kB)\n",
      "Requirement already satisfied: typing-extensions>=4.0.1 in c:\\users\\chotu\\anaconda3\\lib\\site-packages (from azure-core<2.0.0,>=1.24.0->azure-ai-language-conversations==1.1.0b2) (4.3.0)\n",
      "Requirement already satisfied: requests>=2.18.4 in c:\\users\\chotu\\anaconda3\\lib\\site-packages (from azure-core<2.0.0,>=1.24.0->azure-ai-language-conversations==1.1.0b2) (2.25.1)\n",
      "Requirement already satisfied: six>=1.11.0 in c:\\users\\chotu\\anaconda3\\lib\\site-packages (from azure-core<2.0.0,>=1.24.0->azure-ai-language-conversations==1.1.0b2) (1.15.0)\n",
      "Requirement already satisfied: certifi>=2017.4.17 in c:\\users\\chotu\\anaconda3\\lib\\site-packages (from requests>=2.18.4->azure-core<2.0.0,>=1.24.0->azure-ai-language-conversations==1.1.0b2) (2020.12.5)\n",
      "Requirement already satisfied: idna<3,>=2.5 in c:\\users\\chotu\\anaconda3\\lib\\site-packages (from requests>=2.18.4->azure-core<2.0.0,>=1.24.0->azure-ai-language-conversations==1.1.0b2) (2.10)\n",
      "Requirement already satisfied: chardet<5,>=3.0.2 in c:\\users\\chotu\\anaconda3\\lib\\site-packages (from requests>=2.18.4->azure-core<2.0.0,>=1.24.0->azure-ai-language-conversations==1.1.0b2) (4.0.0)\n",
      "Requirement already satisfied: urllib3<1.27,>=1.21.1 in c:\\users\\chotu\\anaconda3\\lib\\site-packages (from requests>=2.18.4->azure-core<2.0.0,>=1.24.0->azure-ai-language-conversations==1.1.0b2) (1.26.4)\n",
      "Installing collected packages: isodate, azure-ai-language-conversations\n",
      "  Attempting uninstall: isodate\n",
      "    Found existing installation: isodate 0.6.0\n",
      "    Uninstalling isodate-0.6.0:\n",
      "      Successfully uninstalled isodate-0.6.0\n",
      "Successfully installed azure-ai-language-conversations-1.1.0b2 isodate-0.6.1\n"
     ]
    }
   ],
   "source": [
    "# Installing required libraries\n",
    "!pip install azure-ai-language-conversations==1.1.0b2"
   ]
  },
  {
   "cell_type": "code",
   "execution_count": 3,
   "id": "e32e8c20",
   "metadata": {},
   "outputs": [],
   "source": [
    "# Importing required libraries\n",
    "import os\n",
    "from azure.core.credentials import AzureKeyCredential\n",
    "from azure.ai.language.conversations import ConversationAnalysisClient"
   ]
  },
  {
   "cell_type": "code",
   "execution_count": 4,
   "id": "c40609ef",
   "metadata": {},
   "outputs": [
    {
     "ename": "HttpResponseError",
     "evalue": "(InvalidRequest) Invalid request has been sent.\nCode: InvalidRequest\nMessage: Invalid request has been sent.\nInner error: {\n    \"code\": \"UnsupportedFeature\",\n    \"message\": \"The conversation summarization is a gated public preview feature. To request access please fill out this form  https://aka.ms/applyforconversationsummarization.\"\n}",
     "output_type": "error",
     "traceback": [
      "\u001b[1;31m---------------------------------------------------------------------------\u001b[0m",
      "\u001b[1;31mHttpResponseError\u001b[0m                         Traceback (most recent call last)",
      "\u001b[1;32m<ipython-input-4-5737cdfa7499>\u001b[0m in \u001b[0;36m<module>\u001b[1;34m\u001b[0m\n\u001b[0;32m      6\u001b[0m \u001b[0mclient\u001b[0m \u001b[1;33m=\u001b[0m \u001b[0mConversationAnalysisClient\u001b[0m\u001b[1;33m(\u001b[0m\u001b[0mendpoint\u001b[0m\u001b[1;33m,\u001b[0m \u001b[0mAzureKeyCredential\u001b[0m\u001b[1;33m(\u001b[0m\u001b[0mkey\u001b[0m\u001b[1;33m)\u001b[0m\u001b[1;33m)\u001b[0m\u001b[1;33m\u001b[0m\u001b[1;33m\u001b[0m\u001b[0m\n\u001b[0;32m      7\u001b[0m \u001b[1;32mwith\u001b[0m \u001b[0mclient\u001b[0m\u001b[1;33m:\u001b[0m\u001b[1;33m\u001b[0m\u001b[1;33m\u001b[0m\u001b[0m\n\u001b[1;32m----> 8\u001b[1;33m     poller = client.begin_conversation_analysis(\n\u001b[0m\u001b[0;32m      9\u001b[0m         task={\n\u001b[0;32m     10\u001b[0m             \u001b[1;34m\"displayName\"\u001b[0m\u001b[1;33m:\u001b[0m \u001b[1;34m\"Analyze conversations from xxx\"\u001b[0m\u001b[1;33m,\u001b[0m\u001b[1;33m\u001b[0m\u001b[1;33m\u001b[0m\u001b[0m\n",
      "\u001b[1;32m~\\anaconda3\\lib\\site-packages\\azure\\core\\tracing\\decorator.py\u001b[0m in \u001b[0;36mwrapper_use_tracer\u001b[1;34m(*args, **kwargs)\u001b[0m\n\u001b[0;32m     76\u001b[0m             \u001b[0mspan_impl_type\u001b[0m \u001b[1;33m=\u001b[0m \u001b[0msettings\u001b[0m\u001b[1;33m.\u001b[0m\u001b[0mtracing_implementation\u001b[0m\u001b[1;33m(\u001b[0m\u001b[1;33m)\u001b[0m\u001b[1;33m\u001b[0m\u001b[1;33m\u001b[0m\u001b[0m\n\u001b[0;32m     77\u001b[0m             \u001b[1;32mif\u001b[0m \u001b[0mspan_impl_type\u001b[0m \u001b[1;32mis\u001b[0m \u001b[1;32mNone\u001b[0m\u001b[1;33m:\u001b[0m\u001b[1;33m\u001b[0m\u001b[1;33m\u001b[0m\u001b[0m\n\u001b[1;32m---> 78\u001b[1;33m                 \u001b[1;32mreturn\u001b[0m \u001b[0mfunc\u001b[0m\u001b[1;33m(\u001b[0m\u001b[1;33m*\u001b[0m\u001b[0margs\u001b[0m\u001b[1;33m,\u001b[0m \u001b[1;33m**\u001b[0m\u001b[0mkwargs\u001b[0m\u001b[1;33m)\u001b[0m\u001b[1;33m\u001b[0m\u001b[1;33m\u001b[0m\u001b[0m\n\u001b[0m\u001b[0;32m     79\u001b[0m \u001b[1;33m\u001b[0m\u001b[0m\n\u001b[0;32m     80\u001b[0m             \u001b[1;31m# Merge span is parameter is set, but only if no explicit parent are passed\u001b[0m\u001b[1;33m\u001b[0m\u001b[1;33m\u001b[0m\u001b[1;33m\u001b[0m\u001b[0m\n",
      "\u001b[1;32m~\\anaconda3\\lib\\site-packages\\azure\\ai\\language\\conversations\\_operations\\_operations.py\u001b[0m in \u001b[0;36mbegin_conversation_analysis\u001b[1;34m(self, task, **kwargs)\u001b[0m\n\u001b[0;32m    655\u001b[0m         \u001b[0mcont_token\u001b[0m \u001b[1;33m=\u001b[0m \u001b[0mkwargs\u001b[0m\u001b[1;33m.\u001b[0m\u001b[0mpop\u001b[0m\u001b[1;33m(\u001b[0m\u001b[1;34m\"continuation_token\"\u001b[0m\u001b[1;33m,\u001b[0m \u001b[1;32mNone\u001b[0m\u001b[1;33m)\u001b[0m  \u001b[1;31m# type: Optional[str]\u001b[0m\u001b[1;33m\u001b[0m\u001b[1;33m\u001b[0m\u001b[0m\n\u001b[0;32m    656\u001b[0m         \u001b[1;32mif\u001b[0m \u001b[0mcont_token\u001b[0m \u001b[1;32mis\u001b[0m \u001b[1;32mNone\u001b[0m\u001b[1;33m:\u001b[0m\u001b[1;33m\u001b[0m\u001b[1;33m\u001b[0m\u001b[0m\n\u001b[1;32m--> 657\u001b[1;33m             raw_result = self._conversation_analysis_initial(  # type: ignore\n\u001b[0m\u001b[0;32m    658\u001b[0m                 \u001b[0mtask\u001b[0m\u001b[1;33m=\u001b[0m\u001b[0mtask\u001b[0m\u001b[1;33m,\u001b[0m \u001b[0mcontent_type\u001b[0m\u001b[1;33m=\u001b[0m\u001b[0mcontent_type\u001b[0m\u001b[1;33m,\u001b[0m \u001b[0mcls\u001b[0m\u001b[1;33m=\u001b[0m\u001b[1;32mlambda\u001b[0m \u001b[0mx\u001b[0m\u001b[1;33m,\u001b[0m \u001b[0my\u001b[0m\u001b[1;33m,\u001b[0m \u001b[0mz\u001b[0m\u001b[1;33m:\u001b[0m \u001b[0mx\u001b[0m\u001b[1;33m,\u001b[0m \u001b[0mheaders\u001b[0m\u001b[1;33m=\u001b[0m\u001b[0m_headers\u001b[0m\u001b[1;33m,\u001b[0m \u001b[0mparams\u001b[0m\u001b[1;33m=\u001b[0m\u001b[0m_params\u001b[0m\u001b[1;33m,\u001b[0m \u001b[1;33m**\u001b[0m\u001b[0mkwargs\u001b[0m\u001b[1;33m\u001b[0m\u001b[1;33m\u001b[0m\u001b[0m\n\u001b[0;32m    659\u001b[0m             )\n",
      "\u001b[1;32m~\\anaconda3\\lib\\site-packages\\azure\\ai\\language\\conversations\\_operations\\_operations.py\u001b[0m in \u001b[0;36m_conversation_analysis_initial\u001b[1;34m(self, task, **kwargs)\u001b[0m\n\u001b[0;32m    318\u001b[0m         \u001b[1;32mif\u001b[0m \u001b[0mresponse\u001b[0m\u001b[1;33m.\u001b[0m\u001b[0mstatus_code\u001b[0m \u001b[1;32mnot\u001b[0m \u001b[1;32min\u001b[0m \u001b[1;33m[\u001b[0m\u001b[1;36m200\u001b[0m\u001b[1;33m,\u001b[0m \u001b[1;36m202\u001b[0m\u001b[1;33m]\u001b[0m\u001b[1;33m:\u001b[0m\u001b[1;33m\u001b[0m\u001b[1;33m\u001b[0m\u001b[0m\n\u001b[0;32m    319\u001b[0m             \u001b[0mmap_error\u001b[0m\u001b[1;33m(\u001b[0m\u001b[0mstatus_code\u001b[0m\u001b[1;33m=\u001b[0m\u001b[0mresponse\u001b[0m\u001b[1;33m.\u001b[0m\u001b[0mstatus_code\u001b[0m\u001b[1;33m,\u001b[0m \u001b[0mresponse\u001b[0m\u001b[1;33m=\u001b[0m\u001b[0mresponse\u001b[0m\u001b[1;33m,\u001b[0m \u001b[0merror_map\u001b[0m\u001b[1;33m=\u001b[0m\u001b[0merror_map\u001b[0m\u001b[1;33m)\u001b[0m\u001b[1;33m\u001b[0m\u001b[1;33m\u001b[0m\u001b[0m\n\u001b[1;32m--> 320\u001b[1;33m             \u001b[1;32mraise\u001b[0m \u001b[0mHttpResponseError\u001b[0m\u001b[1;33m(\u001b[0m\u001b[0mresponse\u001b[0m\u001b[1;33m=\u001b[0m\u001b[0mresponse\u001b[0m\u001b[1;33m)\u001b[0m\u001b[1;33m\u001b[0m\u001b[1;33m\u001b[0m\u001b[0m\n\u001b[0m\u001b[0;32m    321\u001b[0m \u001b[1;33m\u001b[0m\u001b[0m\n\u001b[0;32m    322\u001b[0m         \u001b[0mdeserialized\u001b[0m \u001b[1;33m=\u001b[0m \u001b[1;32mNone\u001b[0m\u001b[1;33m\u001b[0m\u001b[1;33m\u001b[0m\u001b[0m\n",
      "\u001b[1;31mHttpResponseError\u001b[0m: (InvalidRequest) Invalid request has been sent.\nCode: InvalidRequest\nMessage: Invalid request has been sent.\nInner error: {\n    \"code\": \"UnsupportedFeature\",\n    \"message\": \"The conversation summarization is a gated public preview feature. To request access please fill out this form  https://aka.ms/applyforconversationsummarization.\"\n}"
     ]
    }
   ],
   "source": [
    "key = \"824f569d248b47fca4bec414d14f7e34\"\n",
    "endpoint = \"https://language-service.cognitiveservices.azure.com/\"\n",
    "\n",
    "\n",
    "\n",
    "client = ConversationAnalysisClient(endpoint, AzureKeyCredential(key))\n",
    "with client:\n",
    "    poller = client.begin_conversation_analysis(\n",
    "        task={\n",
    "            \"displayName\": \"Analyze conversations from xxx\",\n",
    "            \"analysisInput\": {\n",
    "                \"conversations\": [\n",
    "                    {\n",
    "                        \"conversationItems\": [\n",
    "                            {\n",
    "                                \"text\": \"Hello, you’re chatting with Rene. How may I help you?\",\n",
    "                                \"id\": \"1\",\n",
    "                                \"role\": \"Agent\",\n",
    "                                \"participantId\": \"Agent_1\"\n",
    "                            },\n",
    "                            {\n",
    "                                \"text\": \"Hi, I tried to set up wifi connection for Smart Brew 300 coffee machine, but it didn’t work.\",\n",
    "                                \"id\": \"2\",\n",
    "                                \"role\": \"Customer\",\n",
    "                                \"participantId\": \"Customer_1\"\n",
    "                            },\n",
    "                            {\n",
    "                                \"text\": \"I’m sorry to hear that. Let’s see what we can do to fix this issue. Could you please try the following steps for me? First, could you push the wifi connection button, hold for 3 seconds, then let me know if the power light is slowly blinking on and off every second?\",\n",
    "                                \"id\": \"3\",\n",
    "                                \"role\": \"Agent\",\n",
    "                                \"participantId\": \"Agent_1\"\n",
    "                            },\n",
    "                            {\n",
    "                                \"text\": \"Yes, I pushed the wifi connection button, and now the power light is slowly blinking.\",\n",
    "                                \"id\": \"4\",\n",
    "                                \"role\": \"Customer\",\n",
    "                                \"participantId\": \"Customer_1\"\n",
    "                            },\n",
    "                            {\n",
    "                                \"text\": \"Great. Thank you! Now, please check in your Contoso Coffee app. Does it prompt to ask you to connect with the machine?\",\n",
    "                                \"id\": \"5\",\n",
    "                                \"role\": \"Agent\",\n",
    "                                \"participantId\": \"Agent_1\"\n",
    "                            },\n",
    "                            {\n",
    "                                \"text\": \"No. Nothing happened.\",\n",
    "                                \"id\": \"6\",\n",
    "                                \"role\": \"Customer\",\n",
    "                                \"participantId\": \"Customer_1\"\n",
    "                            },\n",
    "                            {\n",
    "                                \"text\": \"I’m very sorry to hear that. Let me see if there’s another way to fix the issue. Please hold on for a minute.\",\n",
    "                                \"id\": \"7\",\n",
    "                                \"role\": \"Agent\",\n",
    "                                \"participantId\": \"Agent_1\"\n",
    "                            }\n",
    "                        ],\n",
    "                        \"modality\": \"text\",\n",
    "                        \"id\": \"conversation1\",\n",
    "                        \"language\": \"en\"\n",
    "                    },\n",
    "                ]\n",
    "            },\n",
    "            \"tasks\": [\n",
    "                {\n",
    "                    \"taskName\": \"analyze 1\",\n",
    "                    \"kind\": \"ConversationalSummarizationTask\",\n",
    "                    \"parameters\": {\n",
    "                        \"summaryAspects\": [\"Issue, Resolution\"]\n",
    "                    }\n",
    "                }\n",
    "            ]\n",
    "        }\n",
    "    )\n",
    "\n",
    "    # view result\n",
    "    result = poller.result()\n",
    "    task_result = result[\"tasks\"][\"items\"][0]\n",
    "    print(\"... view task status ...\")\n",
    "    print(\"status: {}\".format(task_result[\"status\"]))\n",
    "    resolution_result = task_result[\"results\"]\n",
    "    if resolution_result[\"errors\"]:\n",
    "        print(\"... errors occured ...\")\n",
    "        for error in resolution_result[\"errors\"]:\n",
    "            print(error)\n",
    "    else:\n",
    "        conversation_result = resolution_result[\"conversations\"][0]\n",
    "        if conversation_result[\"warnings\"]:\n",
    "            print(\"... view warnings ...\")\n",
    "            for warning in conversation_result[\"warnings\"]:\n",
    "                print(warning)\n",
    "        else:\n",
    "            summaries = conversation_result[\"summaries\"]\n",
    "            print(\"... view task result ...\")\n",
    "            print(\"issue: {}\".format(summaries[0][\"text\"]))\n",
    "            print(\"resolution: {}\".format(summaries[1][\"text\"]))"
   ]
  },
  {
   "cell_type": "code",
   "execution_count": null,
   "id": "88a5d531",
   "metadata": {},
   "outputs": [],
   "source": [
    "# Note:\n",
    "To apply conversational summarization we need t"
   ]
  }
 ],
 "metadata": {
  "kernelspec": {
   "display_name": "Python 3",
   "language": "python",
   "name": "python3"
  },
  "language_info": {
   "codemirror_mode": {
    "name": "ipython",
    "version": 3
   },
   "file_extension": ".py",
   "mimetype": "text/x-python",
   "name": "python",
   "nbconvert_exporter": "python",
   "pygments_lexer": "ipython3",
   "version": "3.8.8"
  }
 },
 "nbformat": 4,
 "nbformat_minor": 5
}
