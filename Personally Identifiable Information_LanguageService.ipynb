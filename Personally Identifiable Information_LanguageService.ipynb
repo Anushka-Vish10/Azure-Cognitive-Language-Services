{
 "cells": [
  {
   "cell_type": "markdown",
   "id": "387a82e1",
   "metadata": {},
   "source": [
    " PII detection is one of the features offered by Azure Cognitive Service for Language, a collection of machine learning and AI algorithms in the cloud for developing intelligent applications that involve written language. The PII detection feature can identify, categorize, and redact sensitive information in unstructured text. For example: phone numbers, email addresses, and forms of identification. The method for utilizing PII in conversations is different than other use cases, and articles for this use have been separated."
   ]
  },
  {
   "cell_type": "code",
   "execution_count": 1,
   "id": "4019bf87",
   "metadata": {},
   "outputs": [
    {
     "name": "stdout",
     "output_type": "stream",
     "text": [
      "Requirement already satisfied: azure-ai-textanalytics==5.1.0 in c:\\users\\chotu\\anaconda3\\lib\\site-packages (5.1.0)\n",
      "Requirement already satisfied: six>=1.11.0 in c:\\users\\chotu\\anaconda3\\lib\\site-packages (from azure-ai-textanalytics==5.1.0) (1.15.0)\n",
      "Requirement already satisfied: azure-common~=1.1 in c:\\users\\chotu\\anaconda3\\lib\\site-packages (from azure-ai-textanalytics==5.1.0) (1.1.27)\n",
      "Requirement already satisfied: azure-core<2.0.0,>=1.14.0 in c:\\users\\chotu\\anaconda3\\lib\\site-packages (from azure-ai-textanalytics==5.1.0) (1.25.1)\n",
      "Requirement already satisfied: msrest>=0.6.21 in c:\\users\\chotu\\anaconda3\\lib\\site-packages (from azure-ai-textanalytics==5.1.0) (0.6.21)\n",
      "Requirement already satisfied: typing-extensions>=4.0.1 in c:\\users\\chotu\\anaconda3\\lib\\site-packages (from azure-core<2.0.0,>=1.14.0->azure-ai-textanalytics==5.1.0) (4.3.0)\n",
      "Requirement already satisfied: requests>=2.18.4 in c:\\users\\chotu\\anaconda3\\lib\\site-packages (from azure-core<2.0.0,>=1.14.0->azure-ai-textanalytics==5.1.0) (2.25.1)\n",
      "Requirement already satisfied: requests-oauthlib>=0.5.0 in c:\\users\\chotu\\anaconda3\\lib\\site-packages (from msrest>=0.6.21->azure-ai-textanalytics==5.1.0) (1.3.0)\n",
      "Requirement already satisfied: certifi>=2017.4.17 in c:\\users\\chotu\\anaconda3\\lib\\site-packages (from msrest>=0.6.21->azure-ai-textanalytics==5.1.0) (2020.12.5)\n",
      "Requirement already satisfied: isodate>=0.6.0 in c:\\users\\chotu\\anaconda3\\lib\\site-packages (from msrest>=0.6.21->azure-ai-textanalytics==5.1.0) (0.6.0)\n",
      "Requirement already satisfied: chardet<5,>=3.0.2 in c:\\users\\chotu\\anaconda3\\lib\\site-packages (from requests>=2.18.4->azure-core<2.0.0,>=1.14.0->azure-ai-textanalytics==5.1.0) (4.0.0)\n",
      "Requirement already satisfied: idna<3,>=2.5 in c:\\users\\chotu\\anaconda3\\lib\\site-packages (from requests>=2.18.4->azure-core<2.0.0,>=1.14.0->azure-ai-textanalytics==5.1.0) (2.10)\n",
      "Requirement already satisfied: urllib3<1.27,>=1.21.1 in c:\\users\\chotu\\anaconda3\\lib\\site-packages (from requests>=2.18.4->azure-core<2.0.0,>=1.14.0->azure-ai-textanalytics==5.1.0) (1.26.4)\n",
      "Requirement already satisfied: oauthlib>=3.0.0 in c:\\users\\chotu\\anaconda3\\lib\\site-packages (from requests-oauthlib>=0.5.0->msrest>=0.6.21->azure-ai-textanalytics==5.1.0) (3.1.1)\n"
     ]
    }
   ],
   "source": [
    "# Installing required libraries\n",
    "!pip install azure-ai-textanalytics==5.1.0\n",
    "\n"
   ]
  },
  {
   "cell_type": "code",
   "execution_count": 2,
   "id": "82296cc5",
   "metadata": {},
   "outputs": [],
   "source": [
    "# Importing required \n",
    "from azure.ai.textanalytics import TextAnalyticsClient\n",
    "from azure.core.credentials import AzureKeyCredential"
   ]
  },
  {
   "cell_type": "code",
   "execution_count": 3,
   "id": "136711cc",
   "metadata": {},
   "outputs": [
    {
     "name": "stdout",
     "output_type": "stream",
     "text": [
      "Redacted Text: The ********'s SSN is ***********.\n",
      "Entity: employee\n",
      "\tCategory: PersonType\n",
      "\tConfidence Score: 0.97\n",
      "\tOffset: 4\n",
      "\tLength: 8\n",
      "Entity: 859-98-0987\n",
      "\tCategory: USSocialSecurityNumber\n",
      "\tConfidence Score: 0.65\n",
      "\tOffset: 22\n",
      "\tLength: 11\n",
      "Redacted Text: The ********'s phone number is ************.\n",
      "Entity: employee\n",
      "\tCategory: PersonType\n",
      "\tConfidence Score: 0.96\n",
      "\tOffset: 4\n",
      "\tLength: 8\n",
      "Entity: 555-555-5555\n",
      "\tCategory: PhoneNumber\n",
      "\tConfidence Score: 0.8\n",
      "\tOffset: 31\n",
      "\tLength: 12\n"
     ]
    }
   ],
   "source": [
    "key = \"paste your key here\"\n",
    "endpoint = \"paste your endpoint here\"\n",
    "\n",
    "\n",
    "\n",
    "# Authenticate the client using your key and endpoint \n",
    "def authenticate_client():\n",
    "    ta_credential = AzureKeyCredential(key)\n",
    "    text_analytics_client = TextAnalyticsClient(\n",
    "            endpoint=endpoint, \n",
    "            credential=ta_credential)\n",
    "    return text_analytics_client\n",
    "\n",
    "client = authenticate_client()\n",
    "\n",
    "# Example method for detecting sensitive information (PII) from text \n",
    "def pii_recognition_example(client):\n",
    "    documents = [\n",
    "        \"The employee's SSN is 859-98-0987.\",\n",
    "        \"The employee's phone number is 555-555-5555.\"\n",
    "    ]\n",
    "    response = client.recognize_pii_entities(documents, language=\"en\")\n",
    "    result = [doc for doc in response if not doc.is_error]\n",
    "    for doc in result:\n",
    "        print(\"Redacted Text: {}\".format(doc.redacted_text))\n",
    "        for entity in doc.entities:\n",
    "            print(\"Entity: {}\".format(entity.text))\n",
    "            print(\"\\tCategory: {}\".format(entity.category))\n",
    "            print(\"\\tConfidence Score: {}\".format(entity.confidence_score))\n",
    "            print(\"\\tOffset: {}\".format(entity.offset))\n",
    "            print(\"\\tLength: {}\".format(entity.length))\n",
    "pii_recognition_example(client)"
   ]
  },
  {
   "cell_type": "code",
   "execution_count": null,
   "id": "13e4d4bb",
   "metadata": {},
   "outputs": [],
   "source": []
  }
 ],
 "metadata": {
  "kernelspec": {
   "display_name": "Python 3",
   "language": "python",
   "name": "python3"
  },
  "language_info": {
   "codemirror_mode": {
    "name": "ipython",
    "version": 3
   },
   "file_extension": ".py",
   "mimetype": "text/x-python",
   "name": "python",
   "nbconvert_exporter": "python",
   "pygments_lexer": "ipython3",
   "version": "3.8.8"
  }
 },
 "nbformat": 4,
 "nbformat_minor": 5
}
