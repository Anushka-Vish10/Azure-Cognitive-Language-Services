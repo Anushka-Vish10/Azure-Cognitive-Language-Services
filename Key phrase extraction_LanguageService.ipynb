{
 "cells": [
  {
   "cell_type": "markdown",
   "id": "e5069360",
   "metadata": {},
   "source": [
    "Key phrase extraction is a pre-configured feature that evaluates and returns the main concepts in unstructured text, and returns them as a list.\n",
    "\n",
    "For example, in the text \"The food was delicious and the staff were wonderful.\", key phrase extraction will return the main topics: \"food\" and \"wonderful staff\"."
   ]
  },
  {
   "cell_type": "code",
   "execution_count": 1,
   "id": "53ed7c41",
   "metadata": {},
   "outputs": [
    {
     "name": "stdout",
     "output_type": "stream",
     "text": [
      "Collecting azure-ai-textanalytics==5.1.0\n",
      "  Using cached azure_ai_textanalytics-5.1.0-py2.py3-none-any.whl (153 kB)\n",
      "Requirement already satisfied: azure-common~=1.1 in c:\\users\\chotu\\anaconda3\\lib\\site-packages (from azure-ai-textanalytics==5.1.0) (1.1.27)\n",
      "Requirement already satisfied: six>=1.11.0 in c:\\users\\chotu\\anaconda3\\lib\\site-packages (from azure-ai-textanalytics==5.1.0) (1.15.0)\n",
      "Requirement already satisfied: azure-core<2.0.0,>=1.14.0 in c:\\users\\chotu\\anaconda3\\lib\\site-packages (from azure-ai-textanalytics==5.1.0) (1.25.1)\n",
      "Requirement already satisfied: msrest>=0.6.21 in c:\\users\\chotu\\anaconda3\\lib\\site-packages (from azure-ai-textanalytics==5.1.0) (0.6.21)\n",
      "Requirement already satisfied: requests>=2.18.4 in c:\\users\\chotu\\anaconda3\\lib\\site-packages (from azure-core<2.0.0,>=1.14.0->azure-ai-textanalytics==5.1.0) (2.25.1)\n",
      "Requirement already satisfied: typing-extensions>=4.0.1 in c:\\users\\chotu\\anaconda3\\lib\\site-packages (from azure-core<2.0.0,>=1.14.0->azure-ai-textanalytics==5.1.0) (4.3.0)\n",
      "Requirement already satisfied: requests-oauthlib>=0.5.0 in c:\\users\\chotu\\anaconda3\\lib\\site-packages (from msrest>=0.6.21->azure-ai-textanalytics==5.1.0) (1.3.0)\n",
      "Requirement already satisfied: isodate>=0.6.0 in c:\\users\\chotu\\anaconda3\\lib\\site-packages (from msrest>=0.6.21->azure-ai-textanalytics==5.1.0) (0.6.1)\n",
      "Requirement already satisfied: certifi>=2017.4.17 in c:\\users\\chotu\\anaconda3\\lib\\site-packages (from msrest>=0.6.21->azure-ai-textanalytics==5.1.0) (2020.12.5)\n",
      "Requirement already satisfied: chardet<5,>=3.0.2 in c:\\users\\chotu\\anaconda3\\lib\\site-packages (from requests>=2.18.4->azure-core<2.0.0,>=1.14.0->azure-ai-textanalytics==5.1.0) (4.0.0)\n",
      "Requirement already satisfied: urllib3<1.27,>=1.21.1 in c:\\users\\chotu\\anaconda3\\lib\\site-packages (from requests>=2.18.4->azure-core<2.0.0,>=1.14.0->azure-ai-textanalytics==5.1.0) (1.26.4)\n",
      "Requirement already satisfied: idna<3,>=2.5 in c:\\users\\chotu\\anaconda3\\lib\\site-packages (from requests>=2.18.4->azure-core<2.0.0,>=1.14.0->azure-ai-textanalytics==5.1.0) (2.10)\n",
      "Requirement already satisfied: oauthlib>=3.0.0 in c:\\users\\chotu\\anaconda3\\lib\\site-packages (from requests-oauthlib>=0.5.0->msrest>=0.6.21->azure-ai-textanalytics==5.1.0) (3.1.1)\n",
      "Installing collected packages: azure-ai-textanalytics\n",
      "  Attempting uninstall: azure-ai-textanalytics\n",
      "    Found existing installation: azure-ai-textanalytics 5.2.0b4\n",
      "    Uninstalling azure-ai-textanalytics-5.2.0b4:\n",
      "      Successfully uninstalled azure-ai-textanalytics-5.2.0b4\n",
      "Successfully installed azure-ai-textanalytics-5.1.0\n"
     ]
    }
   ],
   "source": [
    "# Installing required libraries \n",
    "!pip install azure-ai-textanalytics==5.1.0"
   ]
  },
  {
   "cell_type": "code",
   "execution_count": 2,
   "id": "c095cd5b",
   "metadata": {},
   "outputs": [],
   "source": [
    "# Importing required libraries\n",
    "\n",
    "from azure.ai.textanalytics import TextAnalyticsClient\n",
    "from azure.core.credentials import AzureKeyCredential"
   ]
  },
  {
   "cell_type": "code",
   "execution_count": 3,
   "id": "8b883ac5",
   "metadata": {},
   "outputs": [
    {
     "name": "stdout",
     "output_type": "stream",
     "text": [
      "\tKey Phrases:\n",
      "\t\t modern medical office\n",
      "\t\t Dr. Smith\n",
      "\t\t great staff\n"
     ]
    }
   ],
   "source": [
    "key = \"Paste-your-key here\"\n",
    "endpoint = \"Paste-your-endpoint-here\"\n",
    "\n",
    "\n",
    "\n",
    "# Authenticate the client using your key and endpoint \n",
    "def authenticate_client():\n",
    "    ta_credential = AzureKeyCredential(key)\n",
    "    text_analytics_client = TextAnalyticsClient(\n",
    "            endpoint=endpoint, \n",
    "            credential=ta_credential)\n",
    "    return text_analytics_client\n",
    "\n",
    "client = authenticate_client()\n",
    "\n",
    "def key_phrase_extraction_example(client):\n",
    "\n",
    "    try:\n",
    "        documents = [\"Dr. Smith has a very modern medical office, and she has great staff.\"]\n",
    "\n",
    "        response = client.extract_key_phrases(documents = documents)[0]\n",
    "\n",
    "        if not response.is_error:\n",
    "            print(\"\\tKey Phrases:\")\n",
    "            for phrase in response.key_phrases:\n",
    "                print(\"\\t\\t\", phrase)\n",
    "        else:\n",
    "            print(response.id, response.error)\n",
    "\n",
    "    except Exception as err:\n",
    "        print(\"Encountered exception. {}\".format(err))\n",
    "        \n",
    "key_phrase_extraction_example(client)"
   ]
  },
  {
   "cell_type": "code",
   "execution_count": null,
   "id": "becdfcbe",
   "metadata": {},
   "outputs": [],
   "source": []
  }
 ],
 "metadata": {
  "kernelspec": {
   "display_name": "Python 3",
   "language": "python",
   "name": "python3"
  },
  "language_info": {
   "codemirror_mode": {
    "name": "ipython",
    "version": 3
   },
   "file_extension": ".py",
   "mimetype": "text/x-python",
   "name": "python",
   "nbconvert_exporter": "python",
   "pygments_lexer": "ipython3",
   "version": "3.8.8"
  }
 },
 "nbformat": 4,
 "nbformat_minor": 5
}
